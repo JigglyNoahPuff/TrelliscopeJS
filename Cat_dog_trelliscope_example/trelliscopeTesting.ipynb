{
 "cells": [
  {
   "cell_type": "code",
   "execution_count": 2,
   "metadata": {},
   "outputs": [],
   "source": [
    "import os\n",
    "import pandas as pd"
   ]
  },
  {
   "cell_type": "markdown",
   "metadata": {},
   "source": [
    "# Good 2 Go Lanes Image Data\n",
    "## Goal: Create a data frame of image paths and how many lanes they have. *This is the same as which folder they are in.*\n",
    "### Step 1: List off all the folders of images as to inspect our potential paths."
   ]
  },
  {
   "cell_type": "code",
   "execution_count": 4,
   "metadata": {},
   "outputs": [
    {
     "data": {
      "text/plain": [
       "['1_lane', '2_lanes', '3_lanes', '4_lanes', '5_lanes', '6_lanes', '7_lanes']"
      ]
     },
     "execution_count": 4,
     "metadata": {},
     "output_type": "execute_result"
    }
   ],
   "source": [
    "imageFolderList = os.listdir('./Good2Go_images')\n",
    "imageFolderList"
   ]
  },
  {
   "cell_type": "markdown",
   "metadata": {},
   "source": [
    "### Step 2: Loop through all the folders and files.\n",
    "- A. Loop through all of the folders.\n",
    "- B. Loop through the files in each folder.\n",
    "- C. For each file write its path to one column and how many lanes, which is it's folder name, to another column."
   ]
  },
  {
   "cell_type": "code",
   "execution_count": 51,
   "metadata": {},
   "outputs": [],
   "source": [
    "laneImagesDf = pd.DataFrame({'imagePath':[], 'lanes':[]})\n",
    "for folder in imageFolderList:\n",
    "    for imagePath in os.listdir(f'./Good2Go_images/{folder}'):\n",
    "        if imagePath[-3:] == 'jpg':\n",
    "            row = pd.DataFrame({'imagePath':[f'./Good2Go_images/{folder}/{imagePath}'], 'lanes':[folder[0]]})\n",
    "            laneImagesDf = laneImagesDf.append(row, ignore_index=True)"
   ]
  },
  {
   "cell_type": "markdown",
   "metadata": {},
   "source": [
    "### Step 3: Display the first five rows so that we can check that our loops worked."
   ]
  },
  {
   "cell_type": "code",
   "execution_count": 52,
   "metadata": {},
   "outputs": [
    {
     "data": {
      "text/html": [
       "<div>\n",
       "<style scoped>\n",
       "    .dataframe tbody tr th:only-of-type {\n",
       "        vertical-align: middle;\n",
       "    }\n",
       "\n",
       "    .dataframe tbody tr th {\n",
       "        vertical-align: top;\n",
       "    }\n",
       "\n",
       "    .dataframe thead th {\n",
       "        text-align: right;\n",
       "    }\n",
       "</style>\n",
       "<table border=\"1\" class=\"dataframe\">\n",
       "  <thead>\n",
       "    <tr style=\"text-align: right;\">\n",
       "      <th></th>\n",
       "      <th>imagePath</th>\n",
       "      <th>lanes</th>\n",
       "    </tr>\n",
       "  </thead>\n",
       "  <tbody>\n",
       "    <tr>\n",
       "      <th>0</th>\n",
       "      <td>./Good2Go_images/1_lane/Ada_County_ID_img_0031...</td>\n",
       "      <td>1</td>\n",
       "    </tr>\n",
       "    <tr>\n",
       "      <th>1</th>\n",
       "      <td>./Good2Go_images/1_lane/Ada_County_ID_img_0032...</td>\n",
       "      <td>1</td>\n",
       "    </tr>\n",
       "    <tr>\n",
       "      <th>2</th>\n",
       "      <td>./Good2Go_images/1_lane/Boise_ID_img_0003.jpg</td>\n",
       "      <td>1</td>\n",
       "    </tr>\n",
       "    <tr>\n",
       "      <th>3</th>\n",
       "      <td>./Good2Go_images/1_lane/Boise_ID_img_0004.jpg</td>\n",
       "      <td>1</td>\n",
       "    </tr>\n",
       "    <tr>\n",
       "      <th>4</th>\n",
       "      <td>./Good2Go_images/1_lane/Boise_ID_img_0005.jpg</td>\n",
       "      <td>1</td>\n",
       "    </tr>\n",
       "  </tbody>\n",
       "</table>\n",
       "</div>"
      ],
      "text/plain": [
       "                                           imagePath lanes\n",
       "0  ./Good2Go_images/1_lane/Ada_County_ID_img_0031...     1\n",
       "1  ./Good2Go_images/1_lane/Ada_County_ID_img_0032...     1\n",
       "2      ./Good2Go_images/1_lane/Boise_ID_img_0003.jpg     1\n",
       "3      ./Good2Go_images/1_lane/Boise_ID_img_0004.jpg     1\n",
       "4      ./Good2Go_images/1_lane/Boise_ID_img_0005.jpg     1"
      ]
     },
     "execution_count": 52,
     "metadata": {},
     "output_type": "execute_result"
    }
   ],
   "source": [
    "laneImagesDf.head()"
   ]
  },
  {
   "cell_type": "markdown",
   "metadata": {},
   "source": [
    "### Step 4: Save data frame to a file so we can use it elsewhere."
   ]
  },
  {
   "cell_type": "code",
   "execution_count": null,
   "metadata": {},
   "outputs": [],
   "source": [
    "laneImagesDf.to_csv('laneImages.csv', index=False)"
   ]
  }
 ],
 "metadata": {
  "interpreter": {
   "hash": "2db524e06e9f5f4ffedc911c917cb75e12dbc923643829bf417064a77eb14d37"
  },
  "kernelspec": {
   "display_name": "Python 3.8.7 64-bit (system)",
   "name": "python3"
  },
  "language_info": {
   "codemirror_mode": {
    "name": "ipython",
    "version": 3
   },
   "file_extension": ".py",
   "mimetype": "text/x-python",
   "name": "python",
   "nbconvert_exporter": "python",
   "pygments_lexer": "ipython3",
   "version": "3.8.7"
  },
  "orig_nbformat": 4
 },
 "nbformat": 4,
 "nbformat_minor": 2
}
