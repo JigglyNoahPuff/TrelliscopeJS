{
  "nbformat": 4,
  "nbformat_minor": 0,
  "metadata": {
    "colab": {
      "name": "Cat_Dog_image_example.ipynb",
      "private_outputs": true,
      "provenance": []
    },
    "kernelspec": {
      "name": "python3",
      "display_name": "Python 3"
    },
    "language_info": {
      "name": "python"
    }
  },
  "cells": [
    {
      "cell_type": "code",
      "metadata": {
        "id": "H5-9rnxZ61cv"
      },
      "source": [
        "import os\n",
        "import pandas as pd\n",
        "import cv2"
      ],
      "execution_count": null,
      "outputs": []
    },
    {
      "cell_type": "code",
      "metadata": {
        "id": "qDGxv9YI650R"
      },
      "source": [
        "\n",
        "imageFolderList = os.listdir('/content/drive/MyDrive/random_images')\n",
        "imageFolderList\n",
        "\n"
      ],
      "execution_count": null,
      "outputs": []
    },
    {
      "cell_type": "code",
      "metadata": {
        "id": "lOfZT-om9a10"
      },
      "source": [
        "cat_dog_images = pd.DataFrame({'imagePath':[], 'Animal':[]})\n",
        "for folder in imageFolderList:\n",
        "    for imagePath in os.listdir(f'/content/drive/MyDrive/random_images/{folder}'):\n",
        "        if imagePath[-3:] == 'jpg':\n",
        "            row = pd.DataFrame({'imagePath':[f'./content/drive/MyDrive/random_images/{folder}/{imagePath}'], 'Animal':[folder[0:3]]})\n",
        "            cat_dog_images = cat_dog_images.append(row, ignore_index=True)"
      ],
      "execution_count": null,
      "outputs": []
    },
    {
      "cell_type": "code",
      "metadata": {
        "id": "epnMVGfp9eMc"
      },
      "source": [
        "cat_dog_images"
      ],
      "execution_count": null,
      "outputs": []
    },
    {
      "cell_type": "code",
      "metadata": {
        "id": "GGnl4-X5_GWG"
      },
      "source": [
        "\n",
        "\n",
        "cat_dog_images.to_csv('cat_dog.csv', index=False)\n",
        "\n"
      ],
      "execution_count": null,
      "outputs": []
    },
    {
      "cell_type": "code",
      "source": [
        ""
      ],
      "metadata": {
        "id": "4UI8T_2qpvFr"
      },
      "execution_count": null,
      "outputs": []
    }
  ]
}